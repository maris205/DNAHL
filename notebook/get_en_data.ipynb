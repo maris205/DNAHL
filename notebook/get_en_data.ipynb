{
 "cells": [
  {
   "cell_type": "code",
   "execution_count": 1,
   "id": "0538a5a9-0978-4cb6-9cbe-81824f2b2eb5",
   "metadata": {},
   "outputs": [
    {
     "name": "stdout",
     "output_type": "stream",
     "text": [
      "--2024-08-09 15:21:17--  https://s3.amazonaws.com/research.metamind.io/wikitext/wikitext-103-raw-v1.zip\n",
      "Resolving s3.amazonaws.com (s3.amazonaws.com)... 54.231.236.16, 52.217.171.16, 52.216.38.48, ...\n",
      "Connecting to s3.amazonaws.com (s3.amazonaws.com)|54.231.236.16|:443... connected.\n",
      "HTTP request sent, awaiting response... 403 Forbidden\n",
      "2024-08-09 15:21:18 ERROR 403: Forbidden.\n",
      "\n"
     ]
    }
   ],
   "source": [
    "#!wget https://s3.amazonaws.com/research.metamind.io/wikitext/wikitext-103-raw-v1.zip"
   ]
  },
  {
   "cell_type": "code",
   "execution_count": null,
   "id": "5f451c96-ed58-4366-ae93-fdff283446a9",
   "metadata": {},
   "outputs": [],
   "source": [
    "!unzip wikitext-103-raw-v1.zip"
   ]
  }
 ],
 "metadata": {
  "kernelspec": {
   "display_name": "Python 3 (ipykernel)",
   "language": "python",
   "name": "python3"
  },
  "language_info": {
   "codemirror_mode": {
    "name": "ipython",
    "version": 3
   },
   "file_extension": ".py",
   "mimetype": "text/x-python",
   "name": "python",
   "nbconvert_exporter": "python",
   "pygments_lexer": "ipython3",
   "version": "3.10.11"
  }
 },
 "nbformat": 4,
 "nbformat_minor": 5
}

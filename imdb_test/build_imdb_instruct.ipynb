{
 "cells": [
  {
   "cell_type": "code",
   "execution_count": 1,
   "id": "68dc0a6d-5a10-43cd-bd3e-52b01f00157d",
   "metadata": {},
   "outputs": [
    {
     "name": "stderr",
     "output_type": "stream",
     "text": [
      "/home/maris/miniconda3/envs/dnagpt/lib/python3.11/site-packages/tqdm/auto.py:21: TqdmWarning: IProgress not found. Please update jupyter and ipywidgets. See https://ipywidgets.readthedocs.io/en/stable/user_install.html\n",
      "  from .autonotebook import tqdm as notebook_tqdm\n"
     ]
    },
    {
     "data": {
      "text/plain": [
       "DatasetDict({\n",
       "    train: Dataset({\n",
       "        features: ['text', 'label'],\n",
       "        num_rows: 25000\n",
       "    })\n",
       "    test: Dataset({\n",
       "        features: ['text', 'label'],\n",
       "        num_rows: 25000\n",
       "    })\n",
       "    unsupervised: Dataset({\n",
       "        features: ['text', 'label'],\n",
       "        num_rows: 50000\n",
       "    })\n",
       "})"
      ]
     },
     "execution_count": 1,
     "metadata": {},
     "output_type": "execute_result"
    }
   ],
   "source": [
    "from datasets import load_dataset\n",
    "imdb_dataset =  load_dataset(\"imdb\")\n",
    "imdb_dataset"
   ]
  },
  {
   "cell_type": "code",
   "execution_count": 3,
   "id": "81955264-8bff-40d9-bf06-6cb5e71b414c",
   "metadata": {},
   "outputs": [
    {
     "data": {
      "text/plain": [
       "{'text': 'I rented I AM CURIOUS-YELLOW from my video store because of all the controversy that surrounded it when it was first released in 1967. I also heard that at first it was seized by U.S. customs if it ever tried to enter this country, therefore being a fan of films considered \"controversial\" I really had to see this for myself.<br /><br />The plot is centered around a young Swedish drama student named Lena who wants to learn everything she can about life. In particular she wants to focus her attentions to making some sort of documentary on what the average Swede thought about certain political issues such as the Vietnam War and race issues in the United States. In between asking politicians and ordinary denizens of Stockholm about their opinions on politics, she has sex with her drama teacher, classmates, and married men.<br /><br />What kills me about I AM CURIOUS-YELLOW is that 40 years ago, this was considered pornographic. Really, the sex and nudity scenes are few and far between, even then it\\'s not shot like some cheaply made porno. While my countrymen mind find it shocking, in reality sex and nudity are a major staple in Swedish cinema. Even Ingmar Bergman, arguably their answer to good old boy John Ford, had sex scenes in his films.<br /><br />I do commend the filmmakers for the fact that any sex shown in the film is shown for artistic purposes rather than just to shock people and make money to be shown in pornographic theaters in America. I AM CURIOUS-YELLOW is a good film for anyone wanting to study the meat and potatoes (no pun intended) of Swedish cinema. But really, this film doesn\\'t have much of a plot.',\n",
       " 'label': 0}"
      ]
     },
     "execution_count": 3,
     "metadata": {},
     "output_type": "execute_result"
    }
   ],
   "source": [
    "imdb_dataset[\"train\"][0]"
   ]
  },
  {
   "cell_type": "code",
   "execution_count": 4,
   "id": "3d269809-ae19-4b23-973f-5c43b71804f9",
   "metadata": {},
   "outputs": [],
   "source": [
    "def build_prompt(example):\n",
    "  if example['label'] == 1:\n",
    "    label = 'positive'\n",
    "  else:\n",
    "    label = 'negative'\n",
    "\n",
    "  instruction = \"Determine whether the sentiment of following text is positive or negative\"\n",
    "\n",
    "  input = example[\"text\"]\n",
    "  input_text = f\"\\n\\n### Input:\\n{input}\"\n",
    "\n",
    "\n",
    "  output = label\n",
    "\n",
    "  prompt =  {\"instruction\":instruction, \n",
    "             \"input\":input,\n",
    "             \"output\":output\n",
    "            }\n",
    "\n",
    "  return prompt"
   ]
  },
  {
   "cell_type": "code",
   "execution_count": 7,
   "id": "b583ddee-be74-4865-bfd1-f9cd1a1b1d64",
   "metadata": {},
   "outputs": [
    {
     "name": "stdout",
     "output_type": "stream",
     "text": [
      "{'instruction': 'Determine whether the sentiment of following text is positive or negative', 'input': 'This is just a precious little diamond. The play, the script are excellent. I cant compare this movie with anything else, maybe except the movie \"Leon\" wonderfully played by Jean Reno and Natalie Portman. But... What can I say about this one? This is the best movie Anne Parillaud has ever played in (See please \"Frankie Starlight\", she\\'s speaking English there) to see what I mean. The story of young punk girl Nikita, taken into the depraved world of the secret government forces has been exceptionally over used by Americans. Never mind the \"Point of no return\" and especially the \"La femme Nikita\" TV series. They cannot compare the original believe me! Trash these videos. Buy this one, do not rent it, BUY it. BTW beware of the subtitles of the LA company which \"translate\" the US release. What a disgrace! If you cant understand French, get a dubbed version. But you\\'ll regret later :)', 'output': 'negative'}\n"
     ]
    }
   ],
   "source": [
    "example = imdb_dataset[\"train\"][0]\n",
    "print(build_prompt(example))"
   ]
  },
  {
   "cell_type": "code",
   "execution_count": 9,
   "id": "33265ac6-0b71-4fdd-895e-827d366d1b09",
   "metadata": {},
   "outputs": [],
   "source": [
    "import json\n",
    "ins_file = open(\"imdb_ins.jsonl\", \"w\")\n",
    "ins_list = []\n",
    "for ins in imdb_dataset[\"train\"]:\n",
    "    ins = build_prompt(ins)\n",
    "    ins_file.write(json.dumps(ins)+\"\\n\")\n",
    "    ins_list.append(ins)\n",
    "\n",
    "for ins in imdb_dataset[\"test\"]:\n",
    "    ins = build_prompt(ins)\n",
    "    ins_file.write(json.dumps(ins)+\"\\n\")\n",
    "    ins_list.append(ins)\n",
    "\n",
    "#print(json.dumps(ins_list))"
   ]
  },
  {
   "cell_type": "code",
   "execution_count": 10,
   "id": "d41a70d4-a9ae-4ba4-afff-38b2127c3a5b",
   "metadata": {},
   "outputs": [],
   "source": [
    "ins_file.close()"
   ]
  },
  {
   "cell_type": "code",
   "execution_count": null,
   "id": "ff3fb5dd-3ced-4b3b-9285-44e69b72982a",
   "metadata": {},
   "outputs": [],
   "source": []
  }
 ],
 "metadata": {
  "kernelspec": {
   "display_name": "Python 3 (ipykernel)",
   "language": "python",
   "name": "python3"
  },
  "language_info": {
   "codemirror_mode": {
    "name": "ipython",
    "version": 3
   },
   "file_extension": ".py",
   "mimetype": "text/x-python",
   "name": "python",
   "nbconvert_exporter": "python",
   "pygments_lexer": "ipython3",
   "version": "3.11.9"
  }
 },
 "nbformat": 4,
 "nbformat_minor": 5
}
